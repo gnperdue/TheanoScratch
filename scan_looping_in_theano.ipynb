{
 "cells": [
  {
   "cell_type": "markdown",
   "metadata": {},
   "source": [
    "# `scan` - Looping in Theano"
   ]
  },
  {
   "cell_type": "markdown",
   "metadata": {},
   "source": [
    "Following:\n",
    "\n",
    "http://deeplearning.net/software/theano/library/scan.html#lib-scan"
   ]
  },
  {
   "cell_type": "markdown",
   "metadata": {},
   "source": [
    "## Simple loop with accumulation"
   ]
  },
  {
   "cell_type": "markdown",
   "metadata": {},
   "source": [
    "Suppose we want to compute `A**k` elementwise."
   ]
  },
  {
   "cell_type": "code",
   "execution_count": 4,
   "metadata": {
    "collapsed": true
   },
   "outputs": [],
   "source": [
    "import theano\n",
    "import theano.tensor as T"
   ]
  },
  {
   "cell_type": "code",
   "execution_count": 1,
   "metadata": {
    "collapsed": false
   },
   "outputs": [
    {
     "name": "stderr",
     "output_type": "stream",
     "text": [
      "/Users/perdue/anaconda/envs/python2/lib/python2.7/site-packages/theano/scan_module/scan_perform_ext.py:133: RuntimeWarning: numpy.ndarray size changed, may indicate binary incompatibility\n",
      "  from scan_perform.scan_perform import *\n"
     ]
    }
   ],
   "source": [
    "k = T.iscalar('k')\n",
    "A = T.vector('A')\n",
    "\n",
    "# symbolic description of the result\n",
    "# ------------------------------------\n",
    "# **note:** the order of the parameters in the lambda are fixed by scan - \n",
    "# the output of the prior call call to `fn` (or the initial value the first\n",
    "# time through) is the first parameter, followed by all non-sequences\n",
    "# **note:** the outputs are _initialized_ as a tensor with the same dtype\n",
    "# and shape as `A`\n",
    "# **note:** `A` is given to scan as a _non-sequence_ parameter, and we also\n",
    "# specify the number of steps as a scalar\n",
    "#\n",
    "# `scan` returns a tuple containing the result and a dictionary of updates.\n",
    "# in this case the dictionary is empty. the result is not a matrix, but a \n",
    "# 3D tensor containing A**k at each step - we want only the last one, so \n",
    "# will compile a function to get only that\n",
    "result, updates = theano.scan(fn=lambda prior_result, A: prior_result * A,\n",
    "                             outputs_info=T.ones_like(A),\n",
    "                             non_sequences=A,\n",
    "                             n_steps=k)\n",
    "\n",
    "# we only want A**k, but scan gives us A**1 ... A**k\n",
    "# discard values we don't care about - \n",
    "# scan will notice this and won't waste memory saving them\n",
    "# (this is a deliberate optimization)\n",
    "final_result = result[-1]\n",
    "\n",
    "# compile fn for A**k\n",
    "power = theano.function(inputs=[A, k], outputs=final_result, updates=updates)"
   ]
  },
  {
   "cell_type": "code",
   "execution_count": 2,
   "metadata": {
    "collapsed": false
   },
   "outputs": [
    {
     "name": "stdout",
     "output_type": "stream",
     "text": [
      "[  0.   1.   4.   9.  16.  25.  36.  49.  64.  81.]\n"
     ]
    }
   ],
   "source": [
    "print power(range(10), 2)"
   ]
  },
  {
   "cell_type": "code",
   "execution_count": 3,
   "metadata": {
    "collapsed": false
   },
   "outputs": [
    {
     "name": "stdout",
     "output_type": "stream",
     "text": [
      "[  0.00000000e+00   1.00000000e+00   1.60000000e+01   8.10000000e+01\n",
      "   2.56000000e+02   6.25000000e+02   1.29600000e+03   2.40100000e+03\n",
      "   4.09600000e+03   6.56100000e+03]\n"
     ]
    }
   ],
   "source": [
    "print power(range(10), 4)"
   ]
  },
  {
   "cell_type": "markdown",
   "metadata": {},
   "source": [
    "## Iterating over the first dimension of a tensor: Calculating a polynomial"
   ]
  },
  {
   "cell_type": "markdown",
   "metadata": {},
   "source": [
    "In addition to looping a fixed number of times, `scan` can iterate over the leading dimension of tensors (this is similar to `for x in list`). We must use the `sequence` keyword arg."
   ]
  },
  {
   "cell_type": "code",
   "execution_count": 5,
   "metadata": {
    "collapsed": true
   },
   "outputs": [],
   "source": [
    "import numpy"
   ]
  },
  {
   "cell_type": "code",
   "execution_count": 46,
   "metadata": {
    "collapsed": false
   },
   "outputs": [],
   "source": [
    "coefficients = T.vector('coefficients')\n",
    "x = T.scalar('x')\n",
    "\n",
    "max_coefficients_supported = 10000\n",
    "\n",
    "# generate the components of the polynomial\n",
    "# we supply two sequences - the coefficient in front of the term and the power of each term\n",
    "# (coming from the `arange`); the free variable is the non_sequenced term\n",
    "components, updates = theano.scan(fn=lambda coefficient, power, free_variable: coefficient * (free_variable ** power),\n",
    "                                outputs_info=None,\n",
    "                                sequences=[coefficients, T.arange(max_coefficients_supported)],\n",
    "                                non_sequences=x)\n",
    "\n",
    "# sum them all up\n",
    "# we could also run an accumulator here, which would be more memory efficient, but this is meant\n",
    "# to be an illustrative example\n",
    "polynomial = components.sum()\n",
    "\n",
    "# compile the fn\n",
    "calculate_polynomial = theano.function(inputs=[coefficients, x],\n",
    "                                      outputs=polynomial)"
   ]
  },
  {
   "cell_type": "code",
   "execution_count": 47,
   "metadata": {
    "collapsed": true
   },
   "outputs": [],
   "source": [
    "test_coefficients = numpy.asarray([1, 0, 2], dtype=numpy.float32)\n",
    "test_value = 3"
   ]
  },
  {
   "cell_type": "code",
   "execution_count": 48,
   "metadata": {
    "collapsed": false
   },
   "outputs": [
    {
     "name": "stdout",
     "output_type": "stream",
     "text": [
      "19.0\n"
     ]
    }
   ],
   "source": [
    "print calculate_polynomial(test_coefficients, test_value)"
   ]
  },
  {
   "cell_type": "code",
   "execution_count": 49,
   "metadata": {
    "collapsed": false
   },
   "outputs": [
    {
     "name": "stdout",
     "output_type": "stream",
     "text": [
      "19.0\n"
     ]
    }
   ],
   "source": [
    "print 1.0 * (3**0) + 0.0 * (3**1) + 2.0 * (3**2)"
   ]
  },
  {
   "cell_type": "code",
   "execution_count": 69,
   "metadata": {
    "collapsed": false
   },
   "outputs": [],
   "source": [
    "# try the accumulator\n",
    "coefficients = T.vector('coefficients')\n",
    "x = T.scalar('x')\n",
    "\n",
    "# outputs_info=T.zeros_like(x),\n",
    "# outputs_info=T.as_tensor_variable(numpy.asarray(0, x.dtype)),\n",
    "comps, updates = theano.scan(fn=lambda coefficient, free_variable: \n",
    "                            coefficient * free_variable,\n",
    "                            outputs_info=None,\n",
    "                            sequences=[coefficients],\n",
    "                            non_sequences=x)\n",
    "\n",
    "polynomial_sum = comps\n",
    "\n",
    "calc_polynomial_sum = theano.function(inputs=[coefficients, x],\n",
    "                                     outputs=polynomial_sum)"
   ]
  },
  {
   "cell_type": "code",
   "execution_count": 71,
   "metadata": {
    "collapsed": false
   },
   "outputs": [
    {
     "name": "stdout",
     "output_type": "stream",
     "text": [
      "[ 1.  2.  3.  4.  5.]\n"
     ]
    }
   ],
   "source": [
    "test_coefficients = numpy.asarray([1, 2, 3, 4, 5], dtype=numpy.float32)\n",
    "test_value = 1\n",
    "print calc_polynomial_sum(test_coefficients, test_value)"
   ]
  },
  {
   "cell_type": "code",
   "execution_count": 78,
   "metadata": {
    "collapsed": false
   },
   "outputs": [],
   "source": [
    "# try the accumulator\n",
    "coefficients = T.vector('coefficients')\n",
    "x = T.scalar('x')\n",
    "k = T.iscalar('k')\n",
    "\n",
    "\n",
    "# outputs_info=T.zeros_like(x),\n",
    "# outputs_info=T.as_tensor_variable(numpy.asarray(0, x.dtype)),\n",
    "comps, updates = theano.scan(fn=lambda prior_result, free_variable: \n",
    "                            prior_result + free_variable,\n",
    "                            outputs_info=T.as_tensor_variable(numpy.asarray(0, x.dtype)),\n",
    "                            non_sequences=x,\n",
    "                            n_steps=k)\n",
    "\n",
    "my_sum = comps\n",
    "\n",
    "calc_my_sum = theano.function(inputs=[x, k],\n",
    "                              outputs=my_sum)"
   ]
  },
  {
   "cell_type": "code",
   "execution_count": 79,
   "metadata": {
    "collapsed": false
   },
   "outputs": [
    {
     "name": "stdout",
     "output_type": "stream",
     "text": [
      "[ 2.  4.  6.  8.]\n"
     ]
    }
   ],
   "source": [
    "test_value = 2\n",
    "test_k = 4\n",
    "print calc_my_sum(test_value, test_k)"
   ]
  },
  {
   "cell_type": "code",
   "execution_count": null,
   "metadata": {
    "collapsed": true
   },
   "outputs": [],
   "source": []
  }
 ],
 "metadata": {
  "kernelspec": {
   "display_name": "Python 2",
   "language": "python",
   "name": "python2"
  },
  "language_info": {
   "codemirror_mode": {
    "name": "ipython",
    "version": 2
   },
   "file_extension": ".py",
   "mimetype": "text/x-python",
   "name": "python",
   "nbconvert_exporter": "python",
   "pygments_lexer": "ipython2",
   "version": "2.7.10"
  }
 },
 "nbformat": 4,
 "nbformat_minor": 0
}
