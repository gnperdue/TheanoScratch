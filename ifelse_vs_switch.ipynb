{
 "cells": [
  {
   "cell_type": "markdown",
   "metadata": {},
   "source": [
    "# IfElse vs Switch"
   ]
  },
  {
   "cell_type": "markdown",
   "metadata": {},
   "source": [
    "Following\n",
    "\n",
    "http://deeplearning.net/software/theano/tutorial/conditions.html"
   ]
  },
  {
   "cell_type": "markdown",
   "metadata": {},
   "source": [
    "* both ops build a condition over symbolic variables\n",
    "* `ifelse` takes a boolean condition and two variables as inputs\n",
    "* `switch` takes a tensor as condition and two variables as inputs; `switch` is an elementwise operation and thus more general than `ifelse`\n",
    "* while `switch` evaluates both _output_ variables, `ifelse` is lazy and only evaluates one variable w.r.t. the condition"
   ]
  },
  {
   "cell_type": "markdown",
   "metadata": {},
   "source": [
    "    (python2)TheanoScratch$ python ifelse_switch.py \n",
    "    time spent evaluated both values 0.179316 sec\n",
    "    time spent evaluated one value 0.092668 sec"
   ]
  },
  {
   "cell_type": "markdown",
   "metadata": {},
   "source": [
    "Unless `linker='vm'` or `linker='cvm'` are used, `ifelse` will compute both variables and take the same time as `switch`."
   ]
  },
  {
   "cell_type": "code",
   "execution_count": null,
   "metadata": {
    "collapsed": true
   },
   "outputs": [],
   "source": []
  }
 ],
 "metadata": {
  "kernelspec": {
   "display_name": "Python 2",
   "language": "python",
   "name": "python2"
  },
  "language_info": {
   "codemirror_mode": {
    "name": "ipython",
    "version": 2
   },
   "file_extension": ".py",
   "mimetype": "text/x-python",
   "name": "python",
   "nbconvert_exporter": "python",
   "pygments_lexer": "ipython2",
   "version": "2.7.10"
  }
 },
 "nbformat": 4,
 "nbformat_minor": 0
}
