{
 "cells": [
  {
   "cell_type": "markdown",
   "metadata": {},
   "source": [
    "# Configuration settings and compiling modes"
   ]
  },
  {
   "cell_type": "markdown",
   "metadata": {},
   "source": [
    "Following:\n",
    "\n",
    "http://deeplearning.net/software/theano/tutorial/modes.html"
   ]
  },
  {
   "cell_type": "markdown",
   "metadata": {},
   "source": [
    "## Configuration"
   ]
  },
  {
   "cell_type": "markdown",
   "metadata": {},
   "source": [
    "The `config` modules contains several _attributes_ that modify Theano's behavior. Generally, we shouldn't modify these in user code. We can modify them if needed in our `.theanorc` file and override those in turn via the `$THEANO_FLAGS` variable."
   ]
  },
  {
   "cell_type": "markdown",
   "metadata": {},
   "source": [
    "    (python2)TheanoScratch$ python -c 'import theano; print theano.config' | head\n",
    "    floatX (('float64', 'float32')) \n",
    "        Doc:  Default floating-point precision for python casts\n",
    "        Value:  float64\n",
    "\n",
    "    warn_float64 (('ignore', 'warn', 'raise', 'pdb')) \n",
    "        Doc:  Do an action when a tensor variable with float64 dtype is created. They can't be run on the GPU with the current(old) gpu back-end and are slow with gamer GPUs.\n",
    "        Value:  ignore\n",
    "\n",
    "    cast_policy (('custom', 'numpy+floatX')) \n",
    "        Doc:  Rules for implicit type casting"
   ]
  },
  {
   "cell_type": "markdown",
   "metadata": {},
   "source": [
    "## Exercise"
   ]
  },
  {
   "cell_type": "markdown",
   "metadata": {},
   "source": [
    "    (python2)TheanoScratch$ time python logistic_regression_example.py \n",
    "    ...\n",
    "    Used the cpu\n",
    "    \n",
    "    real\t0m4.144s\n",
    "    user\t0m4.015s\n",
    "    sys\t0m0.756s"
   ]
  },
  {
   "cell_type": "markdown",
   "metadata": {},
   "source": [
    "Also:\n",
    "\n",
    "    (python2)TheanoScratch$ THEANO_FLAGS='floatX=float32' time python logistic_regression_example.py\n",
    "    ...\n",
    "    Used the cpu\n",
    "    \n",
    "    11.58 real        \n",
    "    10.61 user         \n",
    "    1.35 sys\n",
    "    \n",
    "Not clear why `time` reported in a slightly different format here..."
   ]
  },
  {
   "cell_type": "markdown",
   "metadata": {},
   "source": [
    "    (python2)TheanoScratch$ ls ~/.theanorc\n",
    "    ls: /Users/perdue/.theanorc: No such file or directory"
   ]
  },
  {
   "cell_type": "markdown",
   "metadata": {},
   "source": [
    "    (python2)TheanoScratch$ cat ~/.theanorc\n",
    "    [global]\n",
    "    floatX = float64"
   ]
  },
  {
   "cell_type": "markdown",
   "metadata": {},
   "source": [
    "## Mode"
   ]
  },
  {
   "cell_type": "markdown",
   "metadata": {},
   "source": [
    "When we call `theano.function`, the symbolic relationships are optimized and compiled. This compilation is controlled by the `mode` parameter:\n",
    "\n",
    "* `FAST_COMPILE` - few graph optimizations; use Python implementations\n",
    "* `FAST_RUN` - all optimizations; use C implementations\n",
    "* `DebugMode` - verify the correctness of optimizations; compare Python and C impls. (can be very slow, but revealing)\n",
    "\n",
    "These may be controlled via `config.mode`, or by passing a keyword argument to `theano.function`."
   ]
  },
  {
   "cell_type": "markdown",
   "metadata": {},
   "source": [
    "## Linkers"
   ]
  },
  {
   "cell_type": "markdown",
   "metadata": {},
   "source": [
    "A mode is composed of an optimizer and a linker."
   ]
  },
  {
   "cell_type": "markdown",
   "metadata": {},
   "source": [
    "## Using DebugMode"
   ]
  },
  {
   "cell_type": "markdown",
   "metadata": {},
   "source": [
    "For more, see\n",
    "\n",
    "http://deeplearning.net/software/theano/library/compile/debugmode.html#debugmode"
   ]
  },
  {
   "cell_type": "markdown",
   "metadata": {},
   "source": [
    "## ProfileMode"
   ]
  },
  {
   "cell_type": "markdown",
   "metadata": {},
   "source": [
    "ProfileMode is deprecated. Use `config.profile` instead."
   ]
  },
  {
   "cell_type": "markdown",
   "metadata": {},
   "source": [
    "See\n",
    "\n",
    "http://deeplearning.net/software/theano/tutorial/profiling.html#tut-profiling"
   ]
  },
  {
   "cell_type": "code",
   "execution_count": null,
   "metadata": {
    "collapsed": true
   },
   "outputs": [],
   "source": []
  }
 ],
 "metadata": {
  "kernelspec": {
   "display_name": "Python 2",
   "language": "python",
   "name": "python2"
  },
  "language_info": {
   "codemirror_mode": {
    "name": "ipython",
    "version": 2
   },
   "file_extension": ".py",
   "mimetype": "text/x-python",
   "name": "python",
   "nbconvert_exporter": "python",
   "pygments_lexer": "ipython2",
   "version": "2.7.10"
  }
 },
 "nbformat": 4,
 "nbformat_minor": 0
}
