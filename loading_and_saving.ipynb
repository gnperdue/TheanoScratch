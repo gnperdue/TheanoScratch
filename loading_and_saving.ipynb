{
 "cells": [
  {
   "cell_type": "markdown",
   "metadata": {},
   "source": [
    "# Loading and Saving - Python / Theano Tutorial"
   ]
  },
  {
   "cell_type": "markdown",
   "metadata": {},
   "source": [
    "Following\n",
    "\n",
    "http://deeplearning.net/software/theano/tutorial/loading_and_saving.html"
   ]
  },
  {
   "cell_type": "markdown",
   "metadata": {},
   "source": [
    "Python's standard way of saving class instances is `pickle`. Many Theano objects can be serialized and deserialed using it. A limitation though is that `pickle` does not save the code or data of a class along with the instance being serialized. "
   ]
  },
  {
   "cell_type": "markdown",
   "metadata": {},
   "source": [
    "## The Basics of Pickling"
   ]
  },
  {
   "cell_type": "markdown",
   "metadata": {},
   "source": [
    "We have `pickle` and `cPickle`, which is much the same in terms of functionality but coded in C and much faster."
   ]
  },
  {
   "cell_type": "code",
   "execution_count": 1,
   "metadata": {
    "collapsed": true
   },
   "outputs": [],
   "source": [
    "import cPickle"
   ]
  },
  {
   "cell_type": "code",
   "execution_count": 2,
   "metadata": {
    "collapsed": true
   },
   "outputs": [],
   "source": [
    "class myobj(object):\n",
    "    def __init__(self, value):\n",
    "        self.myval = value"
   ]
  },
  {
   "cell_type": "code",
   "execution_count": 3,
   "metadata": {
    "collapsed": true
   },
   "outputs": [],
   "source": [
    "myo = myobj(43)"
   ]
  },
  {
   "cell_type": "code",
   "execution_count": 4,
   "metadata": {
    "collapsed": false
   },
   "outputs": [
    {
     "data": {
      "text/plain": [
       "43"
      ]
     },
     "execution_count": 4,
     "metadata": {},
     "output_type": "execute_result"
    }
   ],
   "source": [
    "myo.myval"
   ]
  },
  {
   "cell_type": "code",
   "execution_count": 5,
   "metadata": {
    "collapsed": true
   },
   "outputs": [],
   "source": [
    "f = file('obj.save', 'wb')\n",
    "cPickle.dump(myo, f, protocol=cPickle.HIGHEST_PROTOCOL)\n",
    "f.close()"
   ]
  },
  {
   "cell_type": "markdown",
   "metadata": {},
   "source": [
    "**NOTE**: always use the `protocol=cPickle.HIGHEST_PROTOCOL` option - the resulting file can be dozens of times smaller than with the default protocol. Also, opening the file in binary mode is required for portability."
   ]
  },
  {
   "cell_type": "markdown",
   "metadata": {},
   "source": [
    "To load:"
   ]
  },
  {
   "cell_type": "code",
   "execution_count": 6,
   "metadata": {
    "collapsed": false
   },
   "outputs": [
    {
     "data": {
      "text/plain": [
       "43"
      ]
     },
     "execution_count": 6,
     "metadata": {},
     "output_type": "execute_result"
    }
   ],
   "source": [
    "f = file('obj.save', 'rb')\n",
    "loaded_obj = cPickle.load(f)\n",
    "f.close()\n",
    "loaded_obj.myval"
   ]
  },
  {
   "cell_type": "markdown",
   "metadata": {},
   "source": [
    "You may pickle several objects into the same file and then load them all (in the same order):"
   ]
  },
  {
   "cell_type": "code",
   "execution_count": 7,
   "metadata": {
    "collapsed": true
   },
   "outputs": [],
   "source": [
    "myo2 = myobj(42)\n",
    "myo3 = myobj(41)\n",
    "f = file('objects.save', 'wb')\n",
    "for obj in [myo, myo2, myo3]:\n",
    "    cPickle.dump(obj, f, protocol=cPickle.HIGHEST_PROTOCOL)\n",
    "    \n",
    "f.close()"
   ]
  },
  {
   "cell_type": "markdown",
   "metadata": {},
   "source": [
    "Then:"
   ]
  },
  {
   "cell_type": "code",
   "execution_count": 8,
   "metadata": {
    "collapsed": false
   },
   "outputs": [
    {
     "name": "stdout",
     "output_type": "stream",
     "text": [
      "43\n",
      "42\n",
      "41\n"
     ]
    }
   ],
   "source": [
    "f = file('objects.save', 'rb')\n",
    "loaded_objects = []\n",
    "for i in range(3):\n",
    "    loaded_objects.append(cPickle.load(f))\n",
    "    \n",
    "f.close()\n",
    "\n",
    "for obj in loaded_objects:\n",
    "    print obj.myval"
   ]
  },
  {
   "cell_type": "markdown",
   "metadata": {},
   "source": [
    "## Short-Term Serialization"
   ]
  },
  {
   "cell_type": "markdown",
   "metadata": {
    "collapsed": true
   },
   "source": [
    "If we're are confident the class instance we're serializing will be deserialized by a compatible version of the code, then pickling the whole model is an adequate solution. For example, if you're saving models and reloading them during the same execution of a program, or if working with a really stable class.\n",
    "\n",
    "We can control what `pickle` will save with the `__getstate__` and `__setstate__` methods. This is especially useful if the model contains a link to a dataset that you don't want to pickle along with every instance of the model."
   ]
  },
  {
   "cell_type": "markdown",
   "metadata": {},
   "source": [
    "We define methods along the lines of:\n",
    "\n",
    "    def __getstate__(self):\n",
    "        state = dict(self.__dict__)\n",
    "        del state['training_set']\n",
    "        return state\n",
    "\n",
    "    def __setstate__(self, d):\n",
    "        self.__dict__.update(d)\n",
    "        self.training_set = cPickle.load(file(self.training_set_file, 'rb'))"
   ]
  },
  {
   "cell_type": "markdown",
   "metadata": {},
   "source": [
    "## Robust Serialization"
   ]
  },
  {
   "cell_type": "markdown",
   "metadata": {},
   "source": [
    "This sort of serialization uses some Theano-specific functions. It serializes objects using Python's pickling protocol, but any `ndarray` ro `CudaNdarray` objects contained within the object are saved as separate NPY files. These NPY files and the pickled file are saved together in a single zip-file.\n",
    "\n",
    "The main advantage here is we don't need Theano installed to look at the value of shared variables that we pickled. We can load them manually with NumPy:\n",
    "\n",
    "    import numpy\n",
    "    numpy.load('model.zip')\n",
    "    \n",
    "This is a good serialization method when sharing a model with people who might not have Theano installed or might be using a different Python version, etc.\n",
    "\n",
    "See\n",
    "\n",
    "http://deeplearning.net/software/theano/library/misc/pkl_utils.html#theano.misc.pkl_utils.dump\n",
    "\n",
    "and\n",
    "\n",
    "http://deeplearning.net/software/theano/library/misc/pkl_utils.html#theano.misc.pkl_utils.load"
   ]
  },
  {
   "cell_type": "markdown",
   "metadata": {},
   "source": [
    "## Long-Term Serialization"
   ]
  },
  {
   "cell_type": "markdown",
   "metadata": {},
   "source": [
    "If the implementation of the class we want to save is very unstable, we should save and load only the immutable and required parts of the class. In this case, we want to define `__getstate__` and `__setstate__` in terms of what we want to save rather than what we want to exclude:\n",
    "\n",
    "    def __getstate__(self):\n",
    "        return (self.W, self.b)\n",
    "\n",
    "    def __setstate__(self, state):\n",
    "        W, b = state\n",
    "        self.W = W\n",
    "        self.b = b"
   ]
  },
  {
   "cell_type": "markdown",
   "metadata": {},
   "source": [
    "If we rename `W` and `b` as `weights` and `bias`, the older pickled files are still usable if we update the functions to reflect the change in name:\n",
    "\n",
    "    def __getstate__(self):\n",
    "        return (self.weights, self.bias)\n",
    "\n",
    "    def __setstate__(self, state):\n",
    "        W, b = state\n",
    "        self.weights = W\n",
    "        self.bias = b"
   ]
  },
  {
   "cell_type": "code",
   "execution_count": null,
   "metadata": {
    "collapsed": true
   },
   "outputs": [],
   "source": []
  }
 ],
 "metadata": {
  "kernelspec": {
   "display_name": "Python 2",
   "language": "python",
   "name": "python2"
  },
  "language_info": {
   "codemirror_mode": {
    "name": "ipython",
    "version": 2
   },
   "file_extension": ".py",
   "mimetype": "text/x-python",
   "name": "python",
   "nbconvert_exporter": "python",
   "pygments_lexer": "ipython2",
   "version": "2.7.10"
  }
 },
 "nbformat": 4,
 "nbformat_minor": 0
}
