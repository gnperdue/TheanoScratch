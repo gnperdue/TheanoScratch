{
 "cells": [
  {
   "cell_type": "markdown",
   "metadata": {},
   "source": [
    "# Loop"
   ]
  },
  {
   "cell_type": "markdown",
   "metadata": {},
   "source": [
    "Following:\n",
    "\n",
    "http://deeplearning.net/software/theano/tutorial/loop.html"
   ]
  },
  {
   "cell_type": "markdown",
   "metadata": {},
   "source": [
    "## Scan"
   ]
  },
  {
   "cell_type": "markdown",
   "metadata": {},
   "source": [
    "* A general form of _recurrence_, which can be used for looping.\n",
    "* _Reduction_ and _map_ (loop over the leading dimensions) are special cases of `scan`.\n",
    "* We can `scan` a function along some input sequence, producing an output at each step.\n",
    "* The function can see the _previous K time-steps_ of your function.\n",
    "* `sum()` can be computed by scanning the `z + x(i)` function over a list, given the initial state `z=0`.\n",
    "* A `for` loop may often be expressed as a `scan()` operation, and `scan` is the closest that Theano comes to looping.\n",
    "* Advantages of `scan` for loops:\n",
    "    * Number of iterations to be part of the symbolic graph.\n",
    "    * Minimizes GPU transfers (when the GPU is involved).\n",
    "    * Computes gradients through sequential steps.\n",
    "    * Faster than using a `for` loop in Python with a compiled Theano function.\n",
    "    * Potentially lowers overall memory usage by detecting the actual amount of memory required.\n",
    "    \n",
    "See also:\n",
    "\n",
    "http://deeplearning.net/software/theano/library/scan.html#lib-scan"
   ]
  },
  {
   "cell_type": "markdown",
   "metadata": {},
   "source": [
    "### Scan Example: computing `tanh(x(t).dot(W) + b` elementwise"
   ]
  },
  {
   "cell_type": "code",
   "execution_count": 1,
   "metadata": {
    "collapsed": false
   },
   "outputs": [
    {
     "name": "stdout",
     "output_type": "stream",
     "text": [
      "#!/usr/bin/env python\r\n",
      "\"\"\"\r\n",
      "Following:\r\n",
      "    http://deeplearning.net/software/theano/tutorial/loop.html\r\n",
      "\r\n",
      "Scan Example: computing `tanh(x(t).dot(W) + b` elementwise\r\n",
      "\"\"\"\r\n",
      "from __future__ import print_function\r\n",
      "import theano\r\n",
      "import theano.tensor as T\r\n",
      "import numpy as np\r\n",
      "\r\n",
      "# define the tensor variables\r\n",
      "X = T.matrix('X')\r\n",
      "W = T.matrix('W')\r\n",
      "b_sym = T.vector('b_sym')\r\n",
      "\r\n",
      "results, updates = theano.scan(lambda v: T.tanh(T.dot(v, W) + b_sym),\r\n",
      "                               sequences=X)\r\n",
      "compute_elementwise = theano.function(inputs=[X, W, b_sym],\r\n",
      "                                      outputs=[results])\r\n",
      "\r\n",
      "# test values\r\n",
      "x = np.eye(2, dtype=theano.config.floatX)\r\n",
      "w = np.ones((2, 2), dtype=theano.config.floatX)\r\n",
      "b = np.ones((2), dtype=theano.config.floatX)\r\n",
      "b[1] = 2\r\n",
      "\r\n",
      "print(compute_elementwise(x, w, b)[0])\r\n",
      "\r\n",
      "# comparison with numpy\r\n",
      "print(np.tanh(x.dot(w) + b))\r\n"
     ]
    }
   ],
   "source": [
    "cat scan_example1.py"
   ]
  },
  {
   "cell_type": "code",
   "execution_count": 2,
   "metadata": {
    "collapsed": false
   },
   "outputs": [
    {
     "name": "stdout",
     "output_type": "stream",
     "text": [
      "[[ 0.96402758  0.99505475]\n",
      " [ 0.96402758  0.99505475]]\n",
      "[[ 0.96402758  0.99505475]\n",
      " [ 0.96402758  0.99505475]]\n"
     ]
    },
    {
     "name": "stderr",
     "output_type": "stream",
     "text": [
      "/Users/gnperdue/anaconda/envs/python2/lib/python2.7/site-packages/theano/scan_module/scan_perform_ext.py:133: RuntimeWarning: numpy.ndarray size changed, may indicate binary incompatibility\n",
      "  from scan_perform.scan_perform import *\n"
     ]
    }
   ],
   "source": [
    "run scan_example1.py"
   ]
  },
  {
   "cell_type": "code",
   "execution_count": 3,
   "metadata": {
    "collapsed": false
   },
   "outputs": [
    {
     "name": "stdout",
     "output_type": "stream",
     "text": [
      "[[ 1.  1.]\n",
      " [ 1.  1.]]\n"
     ]
    }
   ],
   "source": [
    "print(w)"
   ]
  },
  {
   "cell_type": "code",
   "execution_count": 4,
   "metadata": {
    "collapsed": false
   },
   "outputs": [
    {
     "name": "stdout",
     "output_type": "stream",
     "text": [
      "[[ 1.  0.]\n",
      " [ 0.  1.]]\n"
     ]
    }
   ],
   "source": [
    "print(x)"
   ]
  },
  {
   "cell_type": "code",
   "execution_count": 5,
   "metadata": {
    "collapsed": false
   },
   "outputs": [
    {
     "name": "stdout",
     "output_type": "stream",
     "text": [
      "[ 1.  2.]\n"
     ]
    }
   ],
   "source": [
    "print(b)"
   ]
  },
  {
   "cell_type": "code",
   "execution_count": 6,
   "metadata": {
    "collapsed": false
   },
   "outputs": [
    {
     "data": {
      "text/plain": [
       "array([[ 1.,  1.],\n",
       "       [ 1.,  1.]])"
      ]
     },
     "execution_count": 6,
     "metadata": {},
     "output_type": "execute_result"
    }
   ],
   "source": [
    "x.dot(w)"
   ]
  },
  {
   "cell_type": "code",
   "execution_count": 7,
   "metadata": {
    "collapsed": false
   },
   "outputs": [
    {
     "data": {
      "text/plain": [
       "array([[ 2.,  3.],\n",
       "       [ 2.,  3.]])"
      ]
     },
     "execution_count": 7,
     "metadata": {},
     "output_type": "execute_result"
    }
   ],
   "source": [
    "x.dot(w) + b"
   ]
  },
  {
   "cell_type": "code",
   "execution_count": 8,
   "metadata": {
    "collapsed": false
   },
   "outputs": [
    {
     "data": {
      "text/plain": [
       "array([[ 0.96402758,  0.99505475],\n",
       "       [ 0.96402758,  0.99505475]])"
      ]
     },
     "execution_count": 8,
     "metadata": {},
     "output_type": "execute_result"
    }
   ],
   "source": [
    "np.tanh(x.dot(w) + b)"
   ]
  },
  {
   "cell_type": "markdown",
   "metadata": {},
   "source": [
    "But why `scan()` in this case? Just to show elementwise computation, I guess."
   ]
  },
  {
   "cell_type": "code",
   "execution_count": 9,
   "metadata": {
    "collapsed": true
   },
   "outputs": [],
   "source": [
    "import theano\n",
    "import theano.tensor as T\n",
    "import numpy as np\n",
    "\n",
    "X = T.matrix('X')\n",
    "W = T.matrix('W')\n",
    "b = T.vector('b')\n",
    "results = T.tanh(X.dot(W) + b)\n",
    "f = theano.function(inputs=[X,W,b], outputs=[results])\n",
    "x = np.eye(2, dtype=theano.config.floatX)\n",
    "w = np.ones((2, 2), dtype=theano.config.floatX)\n",
    "b = np.ones((2), dtype=theano.config.floatX)\n",
    "b[1] = 2"
   ]
  },
  {
   "cell_type": "code",
   "execution_count": 10,
   "metadata": {
    "collapsed": false
   },
   "outputs": [
    {
     "data": {
      "text/plain": [
       "[array([[ 0.96402758,  0.99505475],\n",
       "        [ 0.96402758,  0.99505475]])]"
      ]
     },
     "execution_count": 10,
     "metadata": {},
     "output_type": "execute_result"
    }
   ],
   "source": [
    "f(x, w, b)"
   ]
  },
  {
   "cell_type": "markdown",
   "metadata": {},
   "source": [
    "### Scan Example: computing the sequence `x(t) = tanh(x(t-1).dot(W) + y(t).dot(U) + p(T - t).dot(V))`"
   ]
  },
  {
   "cell_type": "code",
   "execution_count": 11,
   "metadata": {
    "collapsed": false
   },
   "outputs": [
    {
     "name": "stdout",
     "output_type": "stream",
     "text": [
      "#!/usr/bin/env python\r\n",
      "\"\"\"\r\n",
      "Following:\r\n",
      "    http://deeplearning.net/software/theano/tutorial/loop.html\r\n",
      "\"\"\"\r\n",
      "from __future__ import print_function\r\n",
      "import theano\r\n",
      "import theano.tensor as T\r\n",
      "import numpy as np\r\n",
      "\r\n",
      "# define tensor variables\r\n",
      "X = T.vector('X')\r\n",
      "W = T.matrix('W')\r\n",
      "b_sym = T.vector('b_sym')\r\n",
      "U = T.matrix('U')\r\n",
      "Y = T.matrix('Y')\r\n",
      "V = T.matrix('V')\r\n",
      "P = T.matrix('P')\r\n",
      "\r\n",
      "results, updates = theano.scan(lambda y, p, x_tm1: T.tanh(T.dot(x_tm1, W) +\r\n",
      "                                                          T.dot(y, U) +\r\n",
      "                                                          T.dot(p, V)),\r\n",
      "                               sequences=[Y, P[::-1]], outputs_info=[X])\r\n",
      "compute_seq = theano.function(inputs=[X, W, Y, U, P, V], outputs=[results])\r\n",
      "\r\n",
      "# test values\r\n",
      "x = np.zeros((2), dtype=theano.config.floatX)\r\n",
      "x[1] = 1\r\n",
      "w = np.ones((2, 2), dtype=theano.config.floatX)\r\n",
      "y = np.ones((5, 2), dtype=theano.config.floatX)\r\n",
      "y[0, :] = -3\r\n",
      "u = np.ones((2, 2), dtype=theano.config.floatX)\r\n",
      "p = np.ones((5, 2), dtype=theano.config.floatX)\r\n",
      "p[0, :] = 3\r\n",
      "v = np.ones((2, 2), dtype=theano.config.floatX)\r\n",
      "\r\n",
      "print(compute_seq(x, w, y, u, p, v)[0])\r\n",
      "\r\n",
      "x_res = np.zeros((5, 2), dtype=theano.config.floatX)\r\n",
      "x_res[0] = np.tanh(x.dot(w) + y[0].dot(u) + p[4].dot(v))\r\n",
      "for i in range(1, 5):\r\n",
      "    x_res[i] = np.tanh(x_res[i - 1].dot(w) + y[i].dot(u) + p[4 - i].dot(v))\r\n",
      "\r\n",
      "print(x_res)\r\n"
     ]
    }
   ],
   "source": [
    "cat scan_example2.py"
   ]
  },
  {
   "cell_type": "code",
   "execution_count": 12,
   "metadata": {
    "collapsed": false
   },
   "outputs": [
    {
     "name": "stdout",
     "output_type": "stream",
     "text": [
      "[[-0.99505475 -0.99505475]\n",
      " [ 0.96471973  0.96471973]\n",
      " [ 0.99998585  0.99998585]\n",
      " [ 0.99998771  0.99998771]\n",
      " [ 1.          1.        ]]\n",
      "[[-0.99505475 -0.99505475]\n",
      " [ 0.96471973  0.96471973]\n",
      " [ 0.99998585  0.99998585]\n",
      " [ 0.99998771  0.99998771]\n",
      " [ 1.          1.        ]]\n"
     ]
    }
   ],
   "source": [
    "run scan_example2.py"
   ]
  },
  {
   "cell_type": "code",
   "execution_count": null,
   "metadata": {
    "collapsed": true
   },
   "outputs": [],
   "source": []
  }
 ],
 "metadata": {
  "kernelspec": {
   "display_name": "Python 2",
   "language": "python",
   "name": "python2"
  },
  "language_info": {
   "codemirror_mode": {
    "name": "ipython",
    "version": 2
   },
   "file_extension": ".py",
   "mimetype": "text/x-python",
   "name": "python",
   "nbconvert_exporter": "python",
   "pygments_lexer": "ipython2",
   "version": "2.7.10"
  }
 },
 "nbformat": 4,
 "nbformat_minor": 0
}
