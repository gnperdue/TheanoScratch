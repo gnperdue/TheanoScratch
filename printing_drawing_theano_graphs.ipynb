{
 "cells": [
  {
   "cell_type": "markdown",
   "metadata": {},
   "source": [
    "# Printing/drawing Theano graphs"
   ]
  },
  {
   "cell_type": "markdown",
   "metadata": {},
   "source": [
    "Following:\n",
    "\n",
    "http://deeplearning.net/software/theano/tutorial/printing_drawing.html"
   ]
  },
  {
   "cell_type": "markdown",
   "metadata": {},
   "source": [
    "The functions `theano.printing.pprint()` and `theano.printing.debugprint()` can print a graph to the terminal before or after compilation. We also have `pydotprint()` to create images of the function.\n",
    "\n",
    "See also\n",
    "\n",
    "http://deeplearning.net/software/theano/library/printing.html#libdoc-printing"
   ]
  },
  {
   "cell_type": "markdown",
   "metadata": {},
   "source": [
    "Consider again a simple logistic regression example:"
   ]
  },
  {
   "cell_type": "code",
   "execution_count": 1,
   "metadata": {
    "collapsed": true
   },
   "outputs": [],
   "source": [
    "import numpy\n",
    "import theano\n",
    "import theano.tensor as T"
   ]
  },
  {
   "cell_type": "code",
   "execution_count": 2,
   "metadata": {
    "collapsed": true
   },
   "outputs": [],
   "source": [
    "rng = numpy.random\n",
    "\n",
    "# training data\n",
    "N = 400\n",
    "feats = 784\n",
    "D = (rng.randn(N, feats).astype(theano.config.floatX), rng.randint(size=N, low=0, high=2).astype(theano.config.floatX))\n",
    "training_steps = 10000\n",
    "\n",
    "# symbolic vars\n",
    "x = T.matrix('x')\n",
    "y = T.vector('y')\n",
    "w = theano.shared(rng.randn(feats).astype(theano.config.floatX), name='w')\n",
    "b = theano.shared(numpy.asarray(0., dtype=theano.config.floatX), name='b')\n",
    "x.tag.test_value = D[0]\n",
    "y.tag.test_value = D[1]\n",
    "\n",
    "# construct the expression graph\n",
    "p_1 = 1 / (1 + T.exp(-T.dot(x, w) - b))     # probability of having a 1\n",
    "prediction = p_1 > 0.5                      # predict 0 or 1\n",
    "\n",
    "# compute gradients\n",
    "xent = -y * T.log(p_1) - (1 - y) * T.log(1 - p_1)   # cross entropy loss function\n",
    "cost = xent.mean() + 0.01 * (w**2).sum()            # cost to optimize\n",
    "gw, gb = T.grad(cost, [w, b])\n",
    "\n",
    "# training and prediction functions\n",
    "train = theano.function(inputs=[x, y], outputs=[prediction, xent], \n",
    "                       updates=[[w, w - 0.01 * gw], [b, b - 0.01 * gb]], name='train')\n",
    "predict = theano.function(inputs=[x], outputs=prediction, name='predict')"
   ]
  },
  {
   "cell_type": "markdown",
   "metadata": {},
   "source": [
    "## Pretty printing"
   ]
  },
  {
   "cell_type": "code",
   "execution_count": 3,
   "metadata": {
    "collapsed": false
   },
   "outputs": [
    {
     "data": {
      "text/plain": [
       "'gt((TensorConstant{1} / (TensorConstant{1} + exp(((-(x \\\\dot w)) - b)))), TensorConstant{0.5})'"
      ]
     },
     "execution_count": 3,
     "metadata": {},
     "output_type": "execute_result"
    }
   ],
   "source": [
    "theano.printing.pprint(prediction)"
   ]
  },
  {
   "cell_type": "markdown",
   "metadata": {},
   "source": [
    "## Debug printing"
   ]
  },
  {
   "cell_type": "code",
   "execution_count": 4,
   "metadata": {
    "collapsed": false
   },
   "outputs": [
    {
     "name": "stdout",
     "output_type": "stream",
     "text": [
      "Elemwise{gt,no_inplace} [@A] ''   \n",
      " |Elemwise{true_div,no_inplace} [@B] ''   \n",
      " | |DimShuffle{x} [@C] ''   \n",
      " | | |TensorConstant{1} [@D]\n",
      " | |Elemwise{add,no_inplace} [@E] ''   \n",
      " |   |DimShuffle{x} [@F] ''   \n",
      " |   | |TensorConstant{1} [@D]\n",
      " |   |Elemwise{exp,no_inplace} [@G] ''   \n",
      " |     |Elemwise{sub,no_inplace} [@H] ''   \n",
      " |       |Elemwise{neg,no_inplace} [@I] ''   \n",
      " |       | |dot [@J] ''   \n",
      " |       |   |x [@K]\n",
      " |       |   |w [@L]\n",
      " |       |DimShuffle{x} [@M] ''   \n",
      " |         |b [@N]\n",
      " |DimShuffle{x} [@O] ''   \n",
      "   |TensorConstant{0.5} [@P]\n"
     ]
    }
   ],
   "source": [
    "theano.printing.debugprint(prediction)"
   ]
  },
  {
   "cell_type": "markdown",
   "metadata": {},
   "source": [
    "The post-compilation graph:"
   ]
  },
  {
   "cell_type": "code",
   "execution_count": 5,
   "metadata": {
    "collapsed": false
   },
   "outputs": [
    {
     "name": "stdout",
     "output_type": "stream",
     "text": [
      "Elemwise{Composite{GT(scalar_sigmoid((-((-i0) - i1))), i2)}} [@A] ''   4\n",
      " |CGemv{inplace} [@B] ''   3\n",
      " | |Alloc [@C] ''   2\n",
      " | | |TensorConstant{0.0} [@D]\n",
      " | | |Shape_i{0} [@E] ''   1\n",
      " | |   |x [@F]\n",
      " | |TensorConstant{1.0} [@G]\n",
      " | |x [@F]\n",
      " | |w [@H]\n",
      " | |TensorConstant{0.0} [@D]\n",
      " |InplaceDimShuffle{x} [@I] ''   0\n",
      " | |b [@J]\n",
      " |TensorConstant{(1,) of 0.5} [@K]\n"
     ]
    }
   ],
   "source": [
    "theano.printing.debugprint(predict)"
   ]
  },
  {
   "cell_type": "markdown",
   "metadata": {},
   "source": [
    "## Picture printing of graphs"
   ]
  },
  {
   "cell_type": "markdown",
   "metadata": {},
   "source": [
    "Pre-compilation:"
   ]
  },
  {
   "cell_type": "code",
   "execution_count": 6,
   "metadata": {
    "collapsed": false
   },
   "outputs": [
    {
     "name": "stdout",
     "output_type": "stream",
     "text": [
      "The output file is available at logreg_pydotprint_prediction.png\n"
     ]
    }
   ],
   "source": [
    "theano.printing.pydotprint(prediction, outfile='logreg_pydotprint_prediction', var_with_name_simple=True)"
   ]
  },
  {
   "cell_type": "markdown",
   "metadata": {},
   "source": [
    "<img src='logreg_pydotprint_prediction.png'>"
   ]
  },
  {
   "cell_type": "markdown",
   "metadata": {},
   "source": [
    "Post-compilation:"
   ]
  },
  {
   "cell_type": "code",
   "execution_count": 8,
   "metadata": {
    "collapsed": false
   },
   "outputs": [
    {
     "name": "stdout",
     "output_type": "stream",
     "text": [
      "The output file is available at logreg_pydotprint_predict.png\n"
     ]
    }
   ],
   "source": [
    "theano.printing.pydotprint(predict, outfile='logreg_pydotprint_predict', var_with_name_simple=True)"
   ]
  },
  {
   "cell_type": "markdown",
   "metadata": {},
   "source": [
    "<img src='logreg_pydotprint_predict.png'>"
   ]
  },
  {
   "cell_type": "markdown",
   "metadata": {},
   "source": [
    "The optimized training graph:"
   ]
  },
  {
   "cell_type": "code",
   "execution_count": 9,
   "metadata": {
    "collapsed": false
   },
   "outputs": [
    {
     "name": "stdout",
     "output_type": "stream",
     "text": [
      "The output file is available at logreg_pydotprint_train.png\n"
     ]
    }
   ],
   "source": [
    "theano.printing.pydotprint(train, outfile='logreg_pydotprint_train', var_with_name_simple=True)"
   ]
  },
  {
   "cell_type": "markdown",
   "metadata": {},
   "source": [
    "<img src=\"logreg_pydotprint_train.png\">"
   ]
  },
  {
   "cell_type": "code",
   "execution_count": null,
   "metadata": {
    "collapsed": true
   },
   "outputs": [],
   "source": []
  }
 ],
 "metadata": {
  "kernelspec": {
   "display_name": "Python 2",
   "language": "python",
   "name": "python2"
  },
  "language_info": {
   "codemirror_mode": {
    "name": "ipython",
    "version": 2
   },
   "file_extension": ".py",
   "mimetype": "text/x-python",
   "name": "python",
   "nbconvert_exporter": "python",
   "pygments_lexer": "ipython2",
   "version": "2.7.10"
  }
 },
 "nbformat": 4,
 "nbformat_minor": 0
}
